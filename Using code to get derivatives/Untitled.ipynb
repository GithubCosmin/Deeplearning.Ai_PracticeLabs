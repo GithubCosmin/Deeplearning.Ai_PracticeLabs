{
 "cells": [
  {
   "cell_type": "code",
   "execution_count": 6,
   "id": "d8a7b540-e517-48ce-b4ff-77fd1bab1afa",
   "metadata": {},
   "outputs": [],
   "source": [
    "import sympy"
   ]
  },
  {
   "cell_type": "code",
   "execution_count": 7,
   "id": "81eef271-9471-4e65-8732-9f7543b3ecd6",
   "metadata": {},
   "outputs": [],
   "source": [
    "J, w = sympy.symbols('J,w')"
   ]
  },
  {
   "cell_type": "code",
   "execution_count": 14,
   "id": "68629206-a091-4f1f-b5bc-ef490f1ada72",
   "metadata": {},
   "outputs": [
    {
     "data": {
      "text/latex": [
       "$\\displaystyle \\frac{1}{w}$"
      ],
      "text/plain": [
       "1/w"
      ]
     },
     "execution_count": 14,
     "metadata": {},
     "output_type": "execute_result"
    }
   ],
   "source": [
    "J=1/w #J=w #J=w**3 #J = w**2\n",
    "J"
   ]
  },
  {
   "cell_type": "code",
   "execution_count": 15,
   "id": "e8ee6ae6-2a4c-4f67-9b68-e70e706ee6bd",
   "metadata": {},
   "outputs": [
    {
     "data": {
      "text/latex": [
       "$\\displaystyle - \\frac{1}{w^{2}}$"
      ],
      "text/plain": [
       "-1/w**2"
      ]
     },
     "execution_count": 15,
     "metadata": {},
     "output_type": "execute_result"
    }
   ],
   "source": [
    "dJ_dw = sympy.diff(J,w)\n",
    "dJ_dw"
   ]
  },
  {
   "cell_type": "code",
   "execution_count": 16,
   "id": "e4c8c722-5592-4d5d-b840-b1a978284bc4",
   "metadata": {},
   "outputs": [
    {
     "data": {
      "text/latex": [
       "$\\displaystyle - \\frac{1}{4}$"
      ],
      "text/plain": [
       "-1/4"
      ]
     },
     "execution_count": 16,
     "metadata": {},
     "output_type": "execute_result"
    }
   ],
   "source": [
    "dJ_dw.subs([(w,2)])"
   ]
  },
  {
   "cell_type": "code",
   "execution_count": null,
   "id": "0e506a40-3f99-44d0-94ea-c18f89914624",
   "metadata": {},
   "outputs": [],
   "source": []
  }
 ],
 "metadata": {
  "kernelspec": {
   "display_name": "Python 3 (ipykernel)",
   "language": "python",
   "name": "python3"
  },
  "language_info": {
   "codemirror_mode": {
    "name": "ipython",
    "version": 3
   },
   "file_extension": ".py",
   "mimetype": "text/x-python",
   "name": "python",
   "nbconvert_exporter": "python",
   "pygments_lexer": "ipython3",
   "version": "3.12.0"
  }
 },
 "nbformat": 4,
 "nbformat_minor": 5
}
